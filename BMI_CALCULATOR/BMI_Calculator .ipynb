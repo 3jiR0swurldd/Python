{
  "nbformat": 4,
  "nbformat_minor": 0,
  "metadata": {
    "colab": {
      "provenance": []
    },
    "kernelspec": {
      "name": "python3",
      "display_name": "Python 3"
    },
    "language_info": {
      "name": "python"
    }
  },
  "cells": [
    {
      "cell_type": "markdown",
      "source": [
        "# BMI Calculator"
      ],
      "metadata": {
        "id": "wbYS-aXcA_qq"
      }
    },
    {
      "cell_type": "code",
      "execution_count": 16,
      "metadata": {
        "colab": {
          "base_uri": "https://localhost:8080/"
        },
        "id": "LOnyE1CP-Zum",
        "outputId": "fdb7ce76-c68f-44c5-be7c-232206f45ee6"
      },
      "outputs": [
        {
          "output_type": "stream",
          "name": "stdout",
          "text": [
            "Enter your name: George\n",
            "Enter your weight in pounds: 170\n",
            "Enter your height in inches: 69\n",
            "25.101869355177485\n",
            "George, You are OverWeight.\n"
          ]
        }
      ],
      "source": [
        "name = input(\"Enter your name: \")\n",
        "\n",
        "weight = int(input(\"Enter your weight in pounds: \"))\n",
        "\n",
        "height = int(input(\"Enter your height in inches: \"))\n",
        "\n",
        "BMI = (weight * 703) / (height * height)\n",
        "\n",
        "print(BMI)\n",
        "\n",
        "\n",
        "if BMI>0:\n",
        "  if(BMI<18.5):\n",
        "    print(name + \", You are Underweight.\")\n",
        "  elif (BMI<=24.9):\n",
        "    print(name +\", You are Normal Weight.\")\n",
        "  elif (BMI<=29.9):\n",
        "    print(name +\", You are OverWeight.\")\n",
        "  elif (BMI<=34.9):\n",
        "    print(name + \", You are Obese\")\n",
        "  elif (BMI<=39.9):\n",
        "    print(name + \", You are Severly Obese.\")\n",
        "  else:\n",
        "    print(name + \", You are morbidly Obese.\")\n"
      ]
    }
  ]
}