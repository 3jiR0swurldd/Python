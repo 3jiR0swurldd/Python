{
 "cells": [
  {
   "cell_type": "markdown",
   "metadata": {},
   "source": [
    "# AUTOMATIC FILE SORTER "
   ]
  },
  {
   "cell_type": "code",
   "execution_count": 3,
   "metadata": {},
   "outputs": [],
   "source": [
    "import os, shutil "
   ]
  },
  {
   "cell_type": "code",
   "execution_count": 4,
   "metadata": {},
   "outputs": [],
   "source": [
    "path = r\"/Users/ejirodan-orogun/Desktop/PYTHON SERIES/auto/\""
   ]
  },
  {
   "cell_type": "code",
   "execution_count": 5,
   "metadata": {},
   "outputs": [
    {
     "data": {
      "text/plain": [
       "['coffee shop .jpeg',\n",
       " '.DS_Store',\n",
       " 'currys marshall receipt .pdf',\n",
       " 'pdf files',\n",
       " 'image files',\n",
       " 'diplo .jpeg',\n",
       " 'CovidDeaths.csv',\n",
       " 'csv files']"
      ]
     },
     "execution_count": 5,
     "metadata": {},
     "output_type": "execute_result"
    }
   ],
   "source": [
    "os.listdir(path)"
   ]
  },
  {
   "cell_type": "code",
   "execution_count": 6,
   "metadata": {},
   "outputs": [],
   "source": [
    "folder_names = ['csv files', 'image files', 'pdf files']\n",
    "\n",
    "for loop in range (0,3):\n",
    "    if not os.path.exists(path + folder_names[loop]):\n",
    "        os.makedirs((path + folder_names[loop]))"
   ]
  },
  {
   "cell_type": "code",
   "execution_count": 7,
   "metadata": {},
   "outputs": [
    {
     "name": "stdout",
     "output_type": "stream",
     "text": [
      "['coffee shop .jpeg', '.DS_Store', 'currys marshall receipt .pdf', 'pdf files', 'image files', 'diplo .jpeg', 'CovidDeaths.csv', 'csv files']\n"
     ]
    }
   ],
   "source": [
    "file_name = os.listdir(path)\n",
    "print(file_name)"
   ]
  },
  {
   "cell_type": "code",
   "execution_count": 8,
   "metadata": {},
   "outputs": [],
   "source": [
    "for file in file_name:\n",
    "    if \".csv\" in file and not os.path.exists(path +\"csv files/\" + file): \n",
    "        shutil.move(path + file, path + \"csv files/\" + file)\n",
    "    elif \".pdf\" in file and not os.path.exists(path +\"pdf files/\" + file): \n",
    "        shutil.move(path + file, path + \"pdf files/\" + file)\n",
    "    elif \".jpeg\" in file and not os.path.exists(path +\"image files/\" + file): \n",
    "        shutil.move(path + file, path + \"image files/\" + file)\n",
    "  \n",
    "\n",
    "\n"
   ]
  }
 ],
 "metadata": {
  "kernelspec": {
   "display_name": "Python 3",
   "language": "python",
   "name": "python3"
  },
  "language_info": {
   "codemirror_mode": {
    "name": "ipython",
    "version": 3
   },
   "file_extension": ".py",
   "mimetype": "text/x-python",
   "name": "python",
   "nbconvert_exporter": "python",
   "pygments_lexer": "ipython3",
   "version": "3.12.3"
  }
 },
 "nbformat": 4,
 "nbformat_minor": 2
}
